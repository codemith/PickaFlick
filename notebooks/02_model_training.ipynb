{
 "cells": [
  {
   "cell_type": "code",
   "execution_count": 2,
   "id": "3f2580d0",
   "metadata": {},
   "outputs": [
    {
     "ename": "ImportError",
     "evalue": "cannot import name 'load_cleaned_data' from 'model' (/Users/mithileshbiradar/Documents/PROJECT/movie-recommender/notebooks/../src/model.py)",
     "output_type": "error",
     "traceback": [
      "\u001b[31m---------------------------------------------------------------------------\u001b[39m",
      "\u001b[31mImportError\u001b[39m                               Traceback (most recent call last)",
      "\u001b[36mCell\u001b[39m\u001b[36m \u001b[39m\u001b[32mIn[2]\u001b[39m\u001b[32m, line 4\u001b[39m\n\u001b[32m      1\u001b[39m \u001b[38;5;28;01mimport\u001b[39;00m\u001b[38;5;250m \u001b[39m\u001b[34;01msys\u001b[39;00m\n\u001b[32m      2\u001b[39m sys.path.append(\u001b[33m\"\u001b[39m\u001b[33m../src\u001b[39m\u001b[33m\"\u001b[39m)\n\u001b[32m----> \u001b[39m\u001b[32m4\u001b[39m \u001b[38;5;28;01mfrom\u001b[39;00m\u001b[38;5;250m \u001b[39m\u001b[34;01mmodel\u001b[39;00m\u001b[38;5;250m \u001b[39m\u001b[38;5;28;01mimport\u001b[39;00m load_cleaned_data, build_and_train_model\n\u001b[32m      6\u001b[39m df = load_cleaned_data()\n\u001b[32m      7\u001b[39m model, predictions, rmse_score = build_and_train_model(df)\n",
      "\u001b[31mImportError\u001b[39m: cannot import name 'load_cleaned_data' from 'model' (/Users/mithileshbiradar/Documents/PROJECT/movie-recommender/notebooks/../src/model.py)"
     ]
    }
   ],
   "source": [
    "import sys\n",
    "sys.path.append(\"../src\")\n",
    "\n",
    "from model import load_cleaned_data, build_and_train_model\n",
    "\n",
    "df = load_cleaned_data()\n",
    "model, predictions, rmse_score = build_and_train_model(df)"
   ]
  },
  {
   "cell_type": "code",
   "execution_count": null,
   "id": "3223265f",
   "metadata": {},
   "outputs": [],
   "source": []
  }
 ],
 "metadata": {
  "kernelspec": {
   "display_name": "venv",
   "language": "python",
   "name": "python3"
  },
  "language_info": {
   "codemirror_mode": {
    "name": "ipython",
    "version": 3
   },
   "file_extension": ".py",
   "mimetype": "text/x-python",
   "name": "python",
   "nbconvert_exporter": "python",
   "pygments_lexer": "ipython3",
   "version": "3.12.4"
  }
 },
 "nbformat": 4,
 "nbformat_minor": 5
}
