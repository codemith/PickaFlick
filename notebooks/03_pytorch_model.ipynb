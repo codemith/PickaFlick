{
 "cells": [
  {
   "cell_type": "code",
   "execution_count": 1,
   "id": "825ab55c",
   "metadata": {},
   "outputs": [
    {
     "name": "stdout",
     "output_type": "stream",
     "text": [
      "Users: 6040, Movies: 3706\n"
     ]
    }
   ],
   "source": [
    "import torch\n",
    "import torch.nn as nn\n",
    "import torch.optim as optim\n",
    "import pandas as pd\n",
    "from torch.utils.data import Dataset, DataLoader\n",
    "from sklearn.preprocessing import LabelEncoder\n",
    "import numpy as np\n",
    "\n",
    "# Load and preprocess data\n",
    "df = pd.read_csv(\"../data/processed/ml1m_cleaned.csv\")\n",
    "df = df[[\"userId\", \"movieId\", \"rating\"]].dropna()\n",
    "\n",
    "# Encode userId and movieId\n",
    "user_encoder = LabelEncoder()\n",
    "movie_encoder = LabelEncoder()\n",
    "\n",
    "df[\"userId_enc\"] = user_encoder.fit_transform(df[\"userId\"])\n",
    "df[\"movieId_enc\"] = movie_encoder.fit_transform(df[\"movieId\"])\n",
    "\n",
    "num_users = df[\"userId_enc\"].nunique()\n",
    "num_movies = df[\"movieId_enc\"].nunique()\n",
    "print(f\"Users: {num_users}, Movies: {num_movies}\")\n"
   ]
  },
  {
   "cell_type": "code",
   "execution_count": 2,
   "id": "4faf2247",
   "metadata": {},
   "outputs": [],
   "source": [
    "class MovieLensDataset(Dataset):\n",
    "    def __init__(self, df):\n",
    "        self.users = torch.tensor(df[\"userId_enc\"].values, dtype=torch.long)\n",
    "        self.movies = torch.tensor(df[\"movieId_enc\"].values, dtype=torch.long)\n",
    "        self.ratings = torch.tensor(df[\"rating\"].values, dtype=torch.float32)\n",
    "\n",
    "    def __len__(self):\n",
    "        return len(self.users)\n",
    "\n",
    "    def __getitem__(self, idx):\n",
    "        return self.users[idx], self.movies[idx], self.ratings[idx]\n",
    "\n",
    "dataset = MovieLensDataset(df)\n",
    "train_loader = DataLoader(dataset, batch_size=2048, shuffle=True)\n"
   ]
  },
  {
   "cell_type": "code",
   "execution_count": 3,
   "id": "d3b0986d",
   "metadata": {},
   "outputs": [],
   "source": [
    "class MatrixFactorization(nn.Module):\n",
    "    def __init__(self, num_users, num_movies, embedding_dim=32):\n",
    "        super(MatrixFactorization, self).__init__()\n",
    "        self.user_emb = nn.Embedding(num_users, embedding_dim)\n",
    "        self.movie_emb = nn.Embedding(num_movies, embedding_dim)\n",
    "\n",
    "    def forward(self, user_ids, movie_ids):\n",
    "        user_vecs = self.user_emb(user_ids)\n",
    "        movie_vecs = self.movie_emb(movie_ids)\n",
    "        return (user_vecs * movie_vecs).sum(dim=1)\n",
    "\n",
    "model = MatrixFactorization(num_users, num_movies)\n",
    "criterion = nn.MSELoss()\n",
    "optimizer = optim.Adam(model.parameters(), lr=0.005)\n"
   ]
  },
  {
   "cell_type": "code",
   "execution_count": 5,
   "id": "885c69d0",
   "metadata": {},
   "outputs": [
    {
     "name": "stdout",
     "output_type": "stream",
     "text": [
      "Epoch 1, Loss: 577.1751\n",
      "Epoch 2, Loss: 485.7616\n",
      "Epoch 3, Loss: 436.0675\n",
      "Epoch 4, Loss: 406.4029\n",
      "Epoch 5, Loss: 387.0213\n",
      "Epoch 6, Loss: 372.7006\n",
      "Epoch 7, Loss: 360.6970\n",
      "Epoch 8, Loss: 350.4863\n",
      "Epoch 9, Loss: 341.6288\n",
      "Epoch 10, Loss: 333.6368\n",
      "Epoch 11, Loss: 326.1548\n",
      "Epoch 12, Loss: 319.0209\n",
      "Epoch 13, Loss: 312.2430\n",
      "Epoch 14, Loss: 306.0045\n",
      "Epoch 15, Loss: 299.7354\n",
      "Epoch 16, Loss: 294.3895\n",
      "Epoch 17, Loss: 289.4383\n",
      "Epoch 18, Loss: 284.8971\n",
      "Epoch 19, Loss: 280.8277\n",
      "Epoch 20, Loss: 277.0750\n",
      "Epoch 21, Loss: 273.7022\n",
      "Epoch 22, Loss: 270.6592\n",
      "Epoch 23, Loss: 267.8552\n",
      "Epoch 24, Loss: 265.2406\n",
      "Epoch 25, Loss: 262.7798\n",
      "Epoch 26, Loss: 260.5544\n",
      "Epoch 27, Loss: 258.5468\n",
      "Epoch 28, Loss: 256.5220\n",
      "Epoch 29, Loss: 254.8697\n",
      "Epoch 30, Loss: 253.3436\n",
      "Epoch 31, Loss: 251.8554\n",
      "Epoch 32, Loss: 250.3588\n",
      "Epoch 33, Loss: 248.9936\n",
      "Epoch 34, Loss: 247.5965\n",
      "Epoch 35, Loss: 246.4449\n",
      "Epoch 36, Loss: 245.4803\n",
      "Epoch 37, Loss: 244.4725\n",
      "Epoch 38, Loss: 243.3094\n",
      "Epoch 39, Loss: 242.5725\n",
      "Epoch 40, Loss: 241.5237\n",
      "Epoch 41, Loss: 240.7802\n",
      "Epoch 42, Loss: 240.0320\n",
      "Epoch 43, Loss: 239.1862\n",
      "Epoch 44, Loss: 238.4825\n",
      "Epoch 45, Loss: 237.6565\n",
      "Epoch 46, Loss: 237.1488\n",
      "Epoch 47, Loss: 236.4937\n",
      "Epoch 48, Loss: 235.9228\n",
      "Epoch 49, Loss: 235.2930\n",
      "Epoch 50, Loss: 234.9428\n"
     ]
    }
   ],
   "source": [
    "for epoch in range(50):\n",
    "    model.train()\n",
    "    total_loss = 0\n",
    "    for users, movies, ratings in train_loader:\n",
    "        preds = model(users, movies)\n",
    "        loss = criterion(preds, ratings)\n",
    "        optimizer.zero_grad()\n",
    "        loss.backward()\n",
    "        optimizer.step()\n",
    "        total_loss += loss.item()\n",
    "    print(f\"Epoch {epoch+1}, Loss: {total_loss:.4f}\")\n"
   ]
  },
  {
   "cell_type": "code",
   "execution_count": 13,
   "id": "199856a7",
   "metadata": {},
   "outputs": [],
   "source": [
    "def recommend_movies_for_user(user_id, model, movie_encoder, user_encoder, df_movies, df, top_n=5):\n",
    "    model.eval()\n",
    "    user_idx = torch.tensor([user_encoder.transform([user_id])[0]])\n",
    "    all_movie_idxs = torch.arange(len(movie_encoder.classes_))\n",
    "\n",
    "    with torch.no_grad():\n",
    "        scores = model(user_idx.repeat(len(all_movie_idxs)), all_movie_idxs)\n",
    "        top_movie_indices = torch.topk(scores, top_n).indices\n",
    "\n",
    "    # These are encoded movie IDs (e.g., 578, 2226, ...)\n",
    "    top_movie_enc_ids = top_movie_indices.numpy()\n",
    "    print(\"Top predicted movieId_enc:\", top_movie_enc_ids)\n",
    "\n",
    "    # Map back to original movie IDs using reverse transform\n",
    "    top_movie_ids = movie_encoder.inverse_transform(top_movie_enc_ids)\n",
    "    top_movie_ids_str = list(map(str, top_movie_ids))\n",
    "\n",
    "    # Ensure movieId in df_movies is string\n",
    "    df_movies[\"movieId\"] = df_movies[\"movieId\"].astype(str)\n",
    "\n",
    "    # Filter movie metadata\n",
    "    return df_movies[df_movies['movieId'].isin(top_movie_ids_str)][[\"movieId\", \"title\"]]\n"
   ]
  },
  {
   "cell_type": "code",
   "execution_count": 14,
   "id": "5eab39dc",
   "metadata": {},
   "outputs": [
    {
     "name": "stdout",
     "output_type": "stream",
     "text": [
      "Top predicted movieId_enc: [ 564 2039 3371  767 1304]\n",
      "\n",
      "Top 5 Recommendations for User 1:\n",
      "     movieId                        title\n",
      "574      578  Hour of the Pig, The (1993)\n",
      "804      814    Boy Called Hate, A (1995)\n",
      "1383    1406         Cérémonie, La (1995)\n",
      "2157    2226             Ring, The (1927)\n",
      "3542    3611        Saludos Amigos (1943)\n"
     ]
    }
   ],
   "source": [
    "user_id = df[\"userId\"].iloc[0]\n",
    "recommendations = recommend_movies_for_user(user_id, model, movie_encoder, user_encoder, df_movies, df)\n",
    "\n",
    "print(f\"\\nTop 5 Recommendations for User {user_id}:\")\n",
    "print(recommendations)\n"
   ]
  },
  {
   "cell_type": "code",
   "execution_count": 9,
   "id": "7e6aaf2c",
   "metadata": {},
   "outputs": [],
   "source": [
    "# Load movie titles from MovieLens 1M with correct encoding\n",
    "df_movies = pd.read_csv(\n",
    "    \"../data/raw/ml-1m/movies.dat\", \n",
    "    sep=\"::\", \n",
    "    names=[\"movieId\", \"title\", \"genres\"], \n",
    "    engine=\"python\",\n",
    "    encoding=\"ISO-8859-1\"  # ✅ fix UnicodeDecodeError\n",
    ")\n",
    "\n",
    "# Ensure movieId is string for merging\n",
    "df_movies[\"movieId\"] = df_movies[\"movieId\"].astype(str)\n"
   ]
  },
  {
   "cell_type": "code",
   "execution_count": 12,
   "id": "ca0dda53",
   "metadata": {},
   "outputs": [
    {
     "name": "stdout",
     "output_type": "stream",
     "text": [
      "Recommended movieIds: [ 578 2226 3611  814 1406]\n",
      "Top 5 Recommendations for User 1:\n",
      "Empty DataFrame\n",
      "Columns: [movieId, title]\n",
      "Index: []\n"
     ]
    }
   ],
   "source": [
    "user_id = df[\"userId\"].iloc[0]\n",
    "recommendations = recommend_movies_for_user(user_id, model, movie_encoder, user_encoder, df_movies)\n",
    "print(f\"Top 5 Recommendations for User {user_id}:\")\n",
    "print(recommendations)"
   ]
  },
  {
   "cell_type": "code",
   "execution_count": 16,
   "id": "baae58d4",
   "metadata": {},
   "outputs": [],
   "source": [
    "import os\n",
    "# Make sure the directory exists\n",
    "os.makedirs(\"../models\", exist_ok=True)\n",
    "\n",
    "# Save model weights\n",
    "torch.save(model.state_dict(), \"../models/mf_model_weights.pth\")\n"
   ]
  },
  {
   "cell_type": "code",
   "execution_count": null,
   "id": "18dcf5c0",
   "metadata": {},
   "outputs": [],
   "source": []
  }
 ],
 "metadata": {
  "kernelspec": {
   "display_name": "venv",
   "language": "python",
   "name": "python3"
  },
  "language_info": {
   "codemirror_mode": {
    "name": "ipython",
    "version": 3
   },
   "file_extension": ".py",
   "mimetype": "text/x-python",
   "name": "python",
   "nbconvert_exporter": "python",
   "pygments_lexer": "ipython3",
   "version": "3.12.4"
  }
 },
 "nbformat": 4,
 "nbformat_minor": 5
}
